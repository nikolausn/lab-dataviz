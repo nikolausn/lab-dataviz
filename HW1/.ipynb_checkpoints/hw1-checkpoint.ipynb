{
 "cells": [
  {
   "cell_type": "code",
   "execution_count": 1,
   "metadata": {
    "collapsed": true
   },
   "outputs": [],
   "source": [
    "#Howework 1"
   ]
  },
  {
   "cell_type": "code",
   "execution_count": 2,
   "metadata": {
    "collapsed": false
   },
   "outputs": [],
   "source": [
    "#!/usr/bin/curl -OJ https://girder.hub.yt/api/v1/file/57fcf27bb8805f000164ab40/download"
   ]
  },
  {
   "cell_type": "code",
   "execution_count": 3,
   "metadata": {
    "collapsed": false
   },
   "outputs": [],
   "source": [
    "import h5py;\n",
    "import matplotlib;\n",
    "import numpy;\n",
    "# data initialization\n",
    "data = {};\n",
    "# read file\n",
    "with h5py.File(\"gaia_validp.h5\") as dataSet:\n",
    "    for value in dataSet:\n",
    "        data[value] = dataSet[value][:];"
   ]
  },
  {
   "cell_type": "code",
   "execution_count": 4,
   "metadata": {
    "collapsed": false
   },
   "outputs": [
    {
     "name": "stdout",
     "output_type": "stream",
     "text": [
      "dict_keys(['parallax', 'phot_g_mean_mag', 'ra', 'pmdec', 'pmra', 'dec'])\n"
     ]
    }
   ],
   "source": [
    "# print keys\n",
    "print(data.keys());"
   ]
  },
  {
   "cell_type": "code",
   "execution_count": 7,
   "metadata": {
    "collapsed": false
   },
   "outputs": [],
   "source": [
    "# plot: get the idea from http://matplotlib.org/users/pyplot_tutorial.html\n",
    "import matplotlib.pyplot as plt;\n",
    "plt.plot(data['phot_g_mean_mag']);"
   ]
  }
 ],
 "metadata": {
  "kernelspec": {
   "display_name": "Python [Root]",
   "language": "python",
   "name": "Python [Root]"
  },
  "language_info": {
   "codemirror_mode": {
    "name": "ipython",
    "version": 3
   },
   "file_extension": ".py",
   "mimetype": "text/x-python",
   "name": "python",
   "nbconvert_exporter": "python",
   "pygments_lexer": "ipython3",
   "version": "3.5.2"
  }
 },
 "nbformat": 4,
 "nbformat_minor": 0
}
